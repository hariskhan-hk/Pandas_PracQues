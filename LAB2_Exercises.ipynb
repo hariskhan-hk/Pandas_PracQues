{
  "nbformat": 4,
  "nbformat_minor": 0,
  "metadata": {
    "colab": {
      "provenance": [],
      "authorship_tag": "ABX9TyM61yx4dEtmv8yAgBD8hubT",
      "include_colab_link": true
    },
    "kernelspec": {
      "name": "python3",
      "display_name": "Python 3"
    },
    "language_info": {
      "name": "python"
    }
  },
  "cells": [
    {
      "cell_type": "markdown",
      "metadata": {
        "id": "view-in-github",
        "colab_type": "text"
      },
      "source": [
        "<a href=\"https://colab.research.google.com/github/hariskhan-hk/Pandas_PracQues/blob/main/LAB2_Exercises.ipynb\" target=\"_parent\"><img src=\"https://colab.research.google.com/assets/colab-badge.svg\" alt=\"Open In Colab\"/></a>"
      ]
    },
    {
      "cell_type": "code",
      "execution_count": 79,
      "metadata": {
        "id": "h6LX_odpN2Lu"
      },
      "outputs": [],
      "source": [
        "import numpy as np\n",
        "import pandas as pd"
      ]
    },
    {
      "cell_type": "code",
      "source": [
        "#QUESTION NO 02 - Create a Series and DataFrame using the following data.\n",
        "\n",
        "covid = {\n",
        "    'Location': ['United States', 'India', 'Brazil', 'Russia', 'United Kingdom',\n",
        "                 'France', 'Spain', 'Italy', 'Turkey', 'Germany'],\n",
        "    'Cases': [28833039, 11079979, 10517232, 4246079, 4170519,\n",
        "              3736016, 3188553, 2907825, 2693164, 2444169],\n",
        "    'Deaths': [517204, 156938, 254263, 86122, 122705,\n",
        "               86332, 69142, 97507, 28503, 70601],\n",
        "    'Recovered': ['No data', 10763451, 9386440, 3811797, 'No data',\n",
        "                  'No data', 'No data', 2398352, 2565723, 2242767]\n",
        "}\n",
        "\n",
        "df = pd.DataFrame(covid)\n",
        "df.replace('No data', np.nan, inplace=True)\n",
        "\n",
        "cases_series = pd.Series(df['Cases'].values, index=covid['Location'], name='Cases')\n",
        "deaths_series = pd.Series(df['Deaths'].values, index=covid['Location'], name='Deaths')\n",
        "recovered_series = pd.Series(df['Recovered'].values, index=covid['Location'], name='Recovered')\n",
        "# recovered_series = recovered_series.replace('No data', pd.NA, inplace = True)\n",
        "# recovered_series1 = recovered_series.fillna(0)\n",
        "\n",
        "print(recovered_series.dtype)\n",
        "print(\"DataFrame:\")\n",
        "print(df)\n",
        "print(\"\\nSeries:\")\n",
        "print(cases_series)\n",
        "print(deaths_series)\n",
        "print(recovered_series)"
      ],
      "metadata": {
        "colab": {
          "base_uri": "https://localhost:8080/"
        },
        "id": "ZWA006oMPFPw",
        "outputId": "e6729a1f-5ab8-4987-f208-43f6938113fb"
      },
      "execution_count": 80,
      "outputs": [
        {
          "output_type": "stream",
          "name": "stdout",
          "text": [
            "float64\n",
            "DataFrame:\n",
            "         Location     Cases  Deaths   Recovered\n",
            "0   United States  28833039  517204         NaN\n",
            "1           India  11079979  156938  10763451.0\n",
            "2          Brazil  10517232  254263   9386440.0\n",
            "3          Russia   4246079   86122   3811797.0\n",
            "4  United Kingdom   4170519  122705         NaN\n",
            "5          France   3736016   86332         NaN\n",
            "6           Spain   3188553   69142         NaN\n",
            "7           Italy   2907825   97507   2398352.0\n",
            "8          Turkey   2693164   28503   2565723.0\n",
            "9         Germany   2444169   70601   2242767.0\n",
            "\n",
            "Series:\n",
            "United States     28833039\n",
            "India             11079979\n",
            "Brazil            10517232\n",
            "Russia             4246079\n",
            "United Kingdom     4170519\n",
            "France             3736016\n",
            "Spain              3188553\n",
            "Italy              2907825\n",
            "Turkey             2693164\n",
            "Germany            2444169\n",
            "Name: Cases, dtype: int64\n",
            "United States     517204\n",
            "India             156938\n",
            "Brazil            254263\n",
            "Russia             86122\n",
            "United Kingdom    122705\n",
            "France             86332\n",
            "Spain              69142\n",
            "Italy              97507\n",
            "Turkey             28503\n",
            "Germany            70601\n",
            "Name: Deaths, dtype: int64\n",
            "United States            NaN\n",
            "India             10763451.0\n",
            "Brazil             9386440.0\n",
            "Russia             3811797.0\n",
            "United Kingdom           NaN\n",
            "France                   NaN\n",
            "Spain                    NaN\n",
            "Italy              2398352.0\n",
            "Turkey             2565723.0\n",
            "Germany            2242767.0\n",
            "Name: Recovered, dtype: float64\n"
          ]
        }
      ]
    },
    {
      "cell_type": "code",
      "source": [
        "#QUESTION NO 03 - Create a new column (Status) in Qs 2 Dataframe. Analyze the “Cases” column, in case of less than\n",
        "# 3 million cases set the Status to low. In case of greater than 3 million and less than 4 million cases\n",
        "# Status is medium, otherwise high.\n",
        "\n",
        "def determine_status(Cases):\n",
        "  if Cases < 3000000:\n",
        "    return 'low'\n",
        "  elif 3000000 <= Cases < 4000000:\n",
        "    return 'medium'\n",
        "  else:\n",
        "    return 'high'\n",
        "\n",
        "df['Status'] = df.Cases.apply(determine_status)\n",
        "print(df)"
      ],
      "metadata": {
        "colab": {
          "base_uri": "https://localhost:8080/"
        },
        "id": "x__xUw3-X13r",
        "outputId": "b7c3b494-8fa5-4a74-d8a4-dde852621581"
      },
      "execution_count": 81,
      "outputs": [
        {
          "output_type": "stream",
          "name": "stdout",
          "text": [
            "         Location     Cases  Deaths   Recovered  Status\n",
            "0   United States  28833039  517204         NaN    high\n",
            "1           India  11079979  156938  10763451.0    high\n",
            "2          Brazil  10517232  254263   9386440.0    high\n",
            "3          Russia   4246079   86122   3811797.0    high\n",
            "4  United Kingdom   4170519  122705         NaN    high\n",
            "5          France   3736016   86332         NaN  medium\n",
            "6           Spain   3188553   69142         NaN  medium\n",
            "7           Italy   2907825   97507   2398352.0     low\n",
            "8          Turkey   2693164   28503   2565723.0     low\n",
            "9         Germany   2444169   70601   2242767.0     low\n"
          ]
        }
      ]
    },
    {
      "cell_type": "code",
      "source": [
        "#QUESTION NO 04 - Rank the created Series and DataFrame in ascending order of deaths count.\n",
        "\n",
        "# Sorting the Series by Deaths in ascending order\n",
        "sorted_deaths_series = deaths_series.rank(ascending= True, method = 'max')\n",
        "print(\"Sorted Series by Deaths:\", sorted_deaths_series)\n",
        "\n",
        "# Sorting the DataFrame by Deaths in ascending order\n",
        "\n",
        "df2 = df\n",
        "df2['Death Ranks'] = df['Deaths'].rank(ascending = True, method = 'max')\n",
        "print(\"\\nSorted Dataframe by Deaths:\")\n",
        "print(df2)"
      ],
      "metadata": {
        "colab": {
          "base_uri": "https://localhost:8080/"
        },
        "id": "UzUop0uFeUF0",
        "outputId": "5027bc1e-695b-45f4-dba8-b4c0b17bf04d"
      },
      "execution_count": 82,
      "outputs": [
        {
          "output_type": "stream",
          "name": "stdout",
          "text": [
            "Sorted Series by Deaths: United States     10.0\n",
            "India              8.0\n",
            "Brazil             9.0\n",
            "Russia             4.0\n",
            "United Kingdom     7.0\n",
            "France             5.0\n",
            "Spain              2.0\n",
            "Italy              6.0\n",
            "Turkey             1.0\n",
            "Germany            3.0\n",
            "Name: Deaths, dtype: float64\n",
            "\n",
            "Sorted Dataframe by Deaths:\n",
            "         Location     Cases  Deaths   Recovered  Status  Death Ranks\n",
            "0   United States  28833039  517204         NaN    high         10.0\n",
            "1           India  11079979  156938  10763451.0    high          8.0\n",
            "2          Brazil  10517232  254263   9386440.0    high          9.0\n",
            "3          Russia   4246079   86122   3811797.0    high          4.0\n",
            "4  United Kingdom   4170519  122705         NaN    high          7.0\n",
            "5          France   3736016   86332         NaN  medium          5.0\n",
            "6           Spain   3188553   69142         NaN  medium          2.0\n",
            "7           Italy   2907825   97507   2398352.0     low          6.0\n",
            "8          Turkey   2693164   28503   2565723.0     low          1.0\n",
            "9         Germany   2444169   70601   2242767.0     low          3.0\n"
          ]
        }
      ]
    },
    {
      "cell_type": "code",
      "source": [
        "#QUESTION NO 05 - Compute the statistics of the created Series and DataFrame by using Table 2.10 functions.\n",
        "\n",
        "# Descriptive statistics for DataFrame\n",
        "print(\"Descriptive statistics of the DataFrame:\")\n",
        "print(df.describe())\n",
        "\n",
        "# Descriptive statistics for Series\n",
        "print(\"\\nDescriptive statistics of the Series:\")\n",
        "print(\"Cases:\", cases_series.describe())\n",
        "print(\"\\nDeaths:\", deaths_series.describe())\n",
        "print(\"\\nRecovered:\", recovered_series.describe())"
      ],
      "metadata": {
        "colab": {
          "base_uri": "https://localhost:8080/"
        },
        "id": "D_oLJnzbsYhh",
        "outputId": "38028f9e-077b-4171-f3eb-9a27a7888006"
      },
      "execution_count": 83,
      "outputs": [
        {
          "output_type": "stream",
          "name": "stdout",
          "text": [
            "Descriptive statistics of the DataFrame:\n",
            "              Cases         Deaths     Recovered  Death Ranks\n",
            "count  1.000000e+01      10.000000  6.000000e+00     10.00000\n",
            "mean   7.381658e+06  148931.700000  5.194755e+06      5.50000\n",
            "std    8.172197e+06  143366.103826  3.845493e+06      3.02765\n",
            "min    2.444169e+06   28503.000000  2.242767e+06      1.00000\n",
            "25%    2.978007e+06   74481.250000  2.440195e+06      3.25000\n",
            "50%    3.953268e+06   91919.500000  3.188760e+06      5.50000\n",
            "75%    8.949444e+06  148379.750000  7.992779e+06      7.75000\n",
            "max    2.883304e+07  517204.000000  1.076345e+07     10.00000\n",
            "\n",
            "Descriptive statistics of the Series:\n",
            "Cases: count    1.000000e+01\n",
            "mean     7.381658e+06\n",
            "std      8.172197e+06\n",
            "min      2.444169e+06\n",
            "25%      2.978007e+06\n",
            "50%      3.953268e+06\n",
            "75%      8.949444e+06\n",
            "max      2.883304e+07\n",
            "Name: Cases, dtype: float64\n",
            "\n",
            "Deaths: count        10.000000\n",
            "mean     148931.700000\n",
            "std      143366.103826\n",
            "min       28503.000000\n",
            "25%       74481.250000\n",
            "50%       91919.500000\n",
            "75%      148379.750000\n",
            "max      517204.000000\n",
            "Name: Deaths, dtype: float64\n",
            "\n",
            "Recovered: count    6.000000e+00\n",
            "mean     5.194755e+06\n",
            "std      3.845493e+06\n",
            "min      2.242767e+06\n",
            "25%      2.440195e+06\n",
            "50%      3.188760e+06\n",
            "75%      7.992779e+06\n",
            "max      1.076345e+07\n",
            "Name: Recovered, dtype: float64\n"
          ]
        }
      ]
    },
    {
      "cell_type": "code",
      "source": [
        "#QUESTION NO 06 - Fill the missing data of Table 2.14 with the mean and median value of a Series by using fillna function.\n",
        "\n",
        "fill_mean = recovered_series.mean()\n",
        "fill_median = recovered_series.median()\n",
        "\n",
        "rs_mean = recovered_series.fillna(fill_mean)\n",
        "rs_median = recovered_series.fillna(fill_median)\n",
        "\n",
        "print(rs_mean)\n",
        "print(rs_median)"
      ],
      "metadata": {
        "colab": {
          "base_uri": "https://localhost:8080/"
        },
        "id": "XekTPUP0yJht",
        "outputId": "88c76e3c-dcb7-47a8-8b64-50a1d94ff20e"
      },
      "execution_count": 84,
      "outputs": [
        {
          "output_type": "stream",
          "name": "stdout",
          "text": [
            "United States      5194755.0\n",
            "India             10763451.0\n",
            "Brazil             9386440.0\n",
            "Russia             3811797.0\n",
            "United Kingdom     5194755.0\n",
            "France             5194755.0\n",
            "Spain              5194755.0\n",
            "Italy              2398352.0\n",
            "Turkey             2565723.0\n",
            "Germany            2242767.0\n",
            "Name: Recovered, dtype: float64\n",
            "United States      3188760.0\n",
            "India             10763451.0\n",
            "Brazil             9386440.0\n",
            "Russia             3811797.0\n",
            "United Kingdom     3188760.0\n",
            "France             3188760.0\n",
            "Spain              3188760.0\n",
            "Italy              2398352.0\n",
            "Turkey             2565723.0\n",
            "Germany            2242767.0\n",
            "Name: Recovered, dtype: float64\n"
          ]
        }
      ]
    }
  ]
}