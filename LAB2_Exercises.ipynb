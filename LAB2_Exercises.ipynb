{
  "nbformat": 4,
  "nbformat_minor": 0,
  "metadata": {
    "colab": {
      "provenance": [],
      "authorship_tag": "ABX9TyO51UqSbl5YXjDqk9cxs9s5",
      "include_colab_link": true
    },
    "kernelspec": {
      "name": "python3",
      "display_name": "Python 3"
    },
    "language_info": {
      "name": "python"
    }
  },
  "cells": [
    {
      "cell_type": "markdown",
      "metadata": {
        "id": "view-in-github",
        "colab_type": "text"
      },
      "source": [
        "<a href=\"https://colab.research.google.com/github/hariskhan-hk/Pandas_PracQues/blob/main/LAB2_Exercises.ipynb\" target=\"_parent\"><img src=\"https://colab.research.google.com/assets/colab-badge.svg\" alt=\"Open In Colab\"/></a>"
      ]
    },
    {
      "cell_type": "code",
      "execution_count": 76,
      "metadata": {
        "id": "h6LX_odpN2Lu"
      },
      "outputs": [],
      "source": [
        "import numpy as np\n",
        "import pandas as pd"
      ]
    },
    {
      "cell_type": "code",
      "source": [
        "#QUESTION NO 02 - Create a Series and DataFrame using the following data.\n",
        "\n",
        "covid = {\n",
        "    'Location': ['United States', 'India', 'Brazil', 'Russia', 'United Kingdom',\n",
        "                 'France', 'Spain', 'Italy', 'Turkey', 'Germany'],\n",
        "    'Cases': [28833039, 11079979, 10517232, 4246079, 4170519,\n",
        "              3736016, 3188553, 2907825, 2693164, 2444169],\n",
        "    'Deaths': [517204, 156938, 254263, 86122, 122705,\n",
        "               86332, 69142, 97507, 28503, 70601],\n",
        "    'Recovered': ['No data', 10763451, 9386440, 3811797, 'No data',\n",
        "                  'No data', 'No data', 2398352, 2565723, 2242767]\n",
        "}\n",
        "\n",
        "df = pd.DataFrame(covid)\n",
        "df.replace('No data', np.nan, inplace=True)\n",
        "\n",
        "cases_series = pd.Series(covid['Cases'], index=covid['Location'], name='Cases')\n",
        "deaths_series = pd.Series(covid['Deaths'], index=covid['Location'], name='Deaths')\n",
        "recovered_series = pd.Series(covid['Recovered'], index=covid['Location'], name='Recovered')\n",
        "\n",
        "print(\"DataFrame:\")\n",
        "print(df)\n",
        "print(\"\\nSeries:\")\n",
        "print(cases_series)\n",
        "print(deaths_series)\n",
        "print(recovered_series)"
      ],
      "metadata": {
        "colab": {
          "base_uri": "https://localhost:8080/"
        },
        "id": "ZWA006oMPFPw",
        "outputId": "79c50a01-cb52-4ac5-b59e-3aeaf3cbf1a4"
      },
      "execution_count": 77,
      "outputs": [
        {
          "output_type": "stream",
          "name": "stdout",
          "text": [
            "DataFrame:\n",
            "         Location     Cases  Deaths   Recovered\n",
            "0   United States  28833039  517204         NaN\n",
            "1           India  11079979  156938  10763451.0\n",
            "2          Brazil  10517232  254263   9386440.0\n",
            "3          Russia   4246079   86122   3811797.0\n",
            "4  United Kingdom   4170519  122705         NaN\n",
            "5          France   3736016   86332         NaN\n",
            "6           Spain   3188553   69142         NaN\n",
            "7           Italy   2907825   97507   2398352.0\n",
            "8          Turkey   2693164   28503   2565723.0\n",
            "9         Germany   2444169   70601   2242767.0\n",
            "\n",
            "Series:\n",
            "United States     28833039\n",
            "India             11079979\n",
            "Brazil            10517232\n",
            "Russia             4246079\n",
            "United Kingdom     4170519\n",
            "France             3736016\n",
            "Spain              3188553\n",
            "Italy              2907825\n",
            "Turkey             2693164\n",
            "Germany            2444169\n",
            "Name: Cases, dtype: int64\n",
            "United States     517204\n",
            "India             156938\n",
            "Brazil            254263\n",
            "Russia             86122\n",
            "United Kingdom    122705\n",
            "France             86332\n",
            "Spain              69142\n",
            "Italy              97507\n",
            "Turkey             28503\n",
            "Germany            70601\n",
            "Name: Deaths, dtype: int64\n",
            "United States      No data\n",
            "India             10763451\n",
            "Brazil             9386440\n",
            "Russia             3811797\n",
            "United Kingdom     No data\n",
            "France             No data\n",
            "Spain              No data\n",
            "Italy              2398352\n",
            "Turkey             2565723\n",
            "Germany            2242767\n",
            "Name: Recovered, dtype: object\n"
          ]
        }
      ]
    },
    {
      "cell_type": "code",
      "source": [
        "#QUESTION NO 03 - Create a new column (Status) in Qs 2 Dataframe. Analyze the “Cases” column, in case of less than\n",
        "# 3 million cases set the Status to low. In case of greater than 3 million and less than 4 million cases\n",
        "# Status is medium, otherwise high.\n",
        "\n",
        "def determine_status(Cases):\n",
        "  if Cases < 3000000:\n",
        "    return 'low'\n",
        "  elif 3000000 <= Cases < 4000000:\n",
        "    return 'medium'\n",
        "  else:\n",
        "    return 'high'\n",
        "\n",
        "df['Status'] = df.Cases.apply(determine_status)\n",
        "print(df)"
      ],
      "metadata": {
        "colab": {
          "base_uri": "https://localhost:8080/"
        },
        "id": "x__xUw3-X13r",
        "outputId": "7d942574-021f-4df7-9344-c8e68ef19f79"
      },
      "execution_count": 78,
      "outputs": [
        {
          "output_type": "stream",
          "name": "stdout",
          "text": [
            "         Location     Cases  Deaths   Recovered  Status\n",
            "0   United States  28833039  517204         NaN    high\n",
            "1           India  11079979  156938  10763451.0    high\n",
            "2          Brazil  10517232  254263   9386440.0    high\n",
            "3          Russia   4246079   86122   3811797.0    high\n",
            "4  United Kingdom   4170519  122705         NaN    high\n",
            "5          France   3736016   86332         NaN  medium\n",
            "6           Spain   3188553   69142         NaN  medium\n",
            "7           Italy   2907825   97507   2398352.0     low\n",
            "8          Turkey   2693164   28503   2565723.0     low\n",
            "9         Germany   2444169   70601   2242767.0     low\n"
          ]
        }
      ]
    },
    {
      "cell_type": "code",
      "source": [
        "#QUESTION NO 04 - Rank the created Series and DataFrame in ascending order of deaths count.\n",
        "\n",
        "# Sorting the Series by Deaths in ascending order\n",
        "sorted_deaths_series = deaths_series.rank(ascending= True, method = 'max')\n",
        "print(\"Sorted Series by Deaths:\", sorted_deaths_series)\n",
        "\n",
        "# Sorting the DataFrame by Deaths in ascending order\n",
        "df['Death Ranks'] = df['Deaths'].rank(ascending = True, method = 'max')\n",
        "print(\"\\nSorted Dataframe by Deaths:\")\n",
        "print(df)"
      ],
      "metadata": {
        "colab": {
          "base_uri": "https://localhost:8080/"
        },
        "id": "UzUop0uFeUF0",
        "outputId": "b183408c-71b5-4b9e-c7eb-2f8c1afb1fcf"
      },
      "execution_count": 79,
      "outputs": [
        {
          "output_type": "stream",
          "name": "stdout",
          "text": [
            "Sorted Series by Deaths: United States     10.0\n",
            "India              8.0\n",
            "Brazil             9.0\n",
            "Russia             4.0\n",
            "United Kingdom     7.0\n",
            "France             5.0\n",
            "Spain              2.0\n",
            "Italy              6.0\n",
            "Turkey             1.0\n",
            "Germany            3.0\n",
            "Name: Deaths, dtype: float64\n",
            "\n",
            "Sorted Dataframe by Deaths:\n",
            "         Location     Cases  Deaths   Recovered  Status  Death Ranks\n",
            "0   United States  28833039  517204         NaN    high         10.0\n",
            "1           India  11079979  156938  10763451.0    high          8.0\n",
            "2          Brazil  10517232  254263   9386440.0    high          9.0\n",
            "3          Russia   4246079   86122   3811797.0    high          4.0\n",
            "4  United Kingdom   4170519  122705         NaN    high          7.0\n",
            "5          France   3736016   86332         NaN  medium          5.0\n",
            "6           Spain   3188553   69142         NaN  medium          2.0\n",
            "7           Italy   2907825   97507   2398352.0     low          6.0\n",
            "8          Turkey   2693164   28503   2565723.0     low          1.0\n",
            "9         Germany   2444169   70601   2242767.0     low          3.0\n"
          ]
        }
      ]
    },
    {
      "cell_type": "code",
      "source": [
        "#QUESTION NO 05 -"
      ],
      "metadata": {
        "id": "D_oLJnzbsYhh"
      },
      "execution_count": 80,
      "outputs": []
    }
  ]
}